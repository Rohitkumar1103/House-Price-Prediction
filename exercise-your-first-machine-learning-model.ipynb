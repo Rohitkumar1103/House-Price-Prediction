{
 "cells": [
  {
   "cell_type": "markdown",
   "id": "fca3b2fc",
   "metadata": {
    "papermill": {
     "duration": 0.004903,
     "end_time": "2024-12-04T21:19:18.188564",
     "exception": false,
     "start_time": "2024-12-04T21:19:18.183661",
     "status": "completed"
    },
    "tags": []
   },
   "source": [
    "**This notebook is an exercise in the [Introduction to Machine Learning](https://www.kaggle.com/learn/intro-to-machine-learning) course.  You can reference the tutorial at [this link](https://www.kaggle.com/dansbecker/your-first-machine-learning-model).**\n",
    "\n",
    "---\n"
   ]
  },
  {
   "cell_type": "markdown",
   "id": "7bd30656",
   "metadata": {
    "papermill": {
     "duration": 0.00401,
     "end_time": "2024-12-04T21:19:18.196980",
     "exception": false,
     "start_time": "2024-12-04T21:19:18.192970",
     "status": "completed"
    },
    "tags": []
   },
   "source": [
    "## Recap\n",
    "So far, you have loaded your data and reviewed it with the following code. Run this cell to set up your coding environment where the previous step left off."
   ]
  },
  {
   "cell_type": "markdown",
   "id": "97384b4a",
   "metadata": {
    "execution": {
     "iopub.execute_input": "2024-11-04T20:23:34.811784Z",
     "iopub.status.busy": "2024-11-04T20:23:34.810885Z"
    },
    "papermill": {
     "duration": 0.003979,
     "end_time": "2024-12-04T21:19:18.205724",
     "exception": false,
     "start_time": "2024-12-04T21:19:18.201745",
     "status": "completed"
    },
    "tags": []
   },
   "source": [
    "# Code you have previously used to load data\n",
    "import pandas as pd\n",
    "\n",
    "# Path of the file to read\n",
    "iowa_file_path = '../input/home-data-for-ml-course/train.csv'\n",
    "\n",
    "home_data = pd.read_csv(iowa_file_path)\n",
    "\n",
    "# Set up code checking\n",
    "from learntools.core import binder\n",
    "binder.bind(globals())\n",
    "from learntools.machine_learning.ex3 import *\n",
    "\n",
    "print(\"Setup Complete\")"
   ]
  },
  {
   "cell_type": "markdown",
   "id": "209ea4d4",
   "metadata": {
    "papermill": {
     "duration": 0.003872,
     "end_time": "2024-12-04T21:19:18.213772",
     "exception": false,
     "start_time": "2024-12-04T21:19:18.209900",
     "status": "completed"
    },
    "tags": []
   },
   "source": [
    "# Exercises\n",
    "\n",
    "## Step 1: Specify Prediction Target\n",
    "Select the target variable, which corresponds to the sales price. Save this to a new variable called `y`. You'll need to print a list of the columns to find the name of the column you need.\n"
   ]
  },
  {
   "cell_type": "code",
   "execution_count": 1,
   "id": "bf7295ab",
   "metadata": {
    "execution": {
     "iopub.execute_input": "2024-12-04T21:19:18.225558Z",
     "iopub.status.busy": "2024-12-04T21:19:18.225021Z",
     "iopub.status.idle": "2024-12-04T21:19:18.231190Z",
     "shell.execute_reply": "2024-12-04T21:19:18.230054Z"
    },
    "papermill": {
     "duration": 0.01466,
     "end_time": "2024-12-04T21:19:18.233829",
     "exception": false,
     "start_time": "2024-12-04T21:19:18.219169",
     "status": "completed"
    },
    "tags": []
   },
   "outputs": [],
   "source": [
    "# print the list of columns in the dataset to find the name of the prediction target"
   ]
  },
  {
   "cell_type": "code",
   "execution_count": 2,
   "id": "324c9498",
   "metadata": {
    "execution": {
     "iopub.execute_input": "2024-12-04T21:19:18.245514Z",
     "iopub.status.busy": "2024-12-04T21:19:18.244478Z",
     "iopub.status.idle": "2024-12-04T21:19:18.508211Z",
     "shell.execute_reply": "2024-12-04T21:19:18.506709Z"
    },
    "papermill": {
     "duration": 0.271408,
     "end_time": "2024-12-04T21:19:18.510126",
     "exception": true,
     "start_time": "2024-12-04T21:19:18.238718",
     "status": "failed"
    },
    "tags": []
   },
   "outputs": [
    {
     "ename": "NameError",
     "evalue": "name 'home_data' is not defined",
     "output_type": "error",
     "traceback": [
      "\u001b[0;31m---------------------------------------------------------------------------\u001b[0m",
      "\u001b[0;31mNameError\u001b[0m                                 Traceback (most recent call last)",
      "Cell \u001b[0;32mIn[2], line 1\u001b[0m\n\u001b[0;32m----> 1\u001b[0m y \u001b[38;5;241m=\u001b[39m \u001b[43mhome_data\u001b[49m\u001b[38;5;241m.\u001b[39mSalePrice\n\u001b[1;32m      3\u001b[0m \u001b[38;5;66;03m# Check your answer\u001b[39;00m\n\u001b[1;32m      4\u001b[0m step_1\u001b[38;5;241m.\u001b[39mcheck()\n",
      "\u001b[0;31mNameError\u001b[0m: name 'home_data' is not defined"
     ]
    }
   ],
   "source": [
    "y = home_data.SalePrice\n",
    "\n",
    "# Check your answer\n",
    "step_1.check()"
   ]
  },
  {
   "cell_type": "code",
   "execution_count": null,
   "id": "4fe05ed8",
   "metadata": {
    "execution": {
     "iopub.execute_input": "2024-11-30T20:37:35.019065Z",
     "iopub.status.busy": "2024-11-30T20:37:35.018598Z",
     "iopub.status.idle": "2024-11-30T20:37:35.034692Z",
     "shell.execute_reply": "2024-11-30T20:37:35.033328Z",
     "shell.execute_reply.started": "2024-11-30T20:37:35.019024Z"
    },
    "papermill": {
     "duration": null,
     "end_time": null,
     "exception": null,
     "start_time": null,
     "status": "pending"
    },
    "tags": []
   },
   "outputs": [],
   "source": [
    "# The lines below will show you a hint or the solution.\n",
    "step_1.hint() \n",
    "step_1.solution()"
   ]
  },
  {
   "cell_type": "markdown",
   "id": "acddf5a8",
   "metadata": {
    "papermill": {
     "duration": null,
     "end_time": null,
     "exception": null,
     "start_time": null,
     "status": "pending"
    },
    "tags": []
   },
   "source": [
    "## Step 2: Create X\n",
    "Now you will create a DataFrame called `X` holding the predictive features.\n",
    "\n",
    "Since you want only some columns from the original data, you'll first create a list with the names of the columns you want in `X`.\n",
    "\n",
    "You'll use just the following columns in the list (you can copy and paste the whole list to save some typing, though you'll still need to add quotes):\n",
    "  * LotArea\n",
    "  * YearBuilt\n",
    "  * 1stFlrSF\n",
    "  * 2ndFlrSF\n",
    "  * FullBath\n",
    "  * BedroomAbvGr\n",
    "  * TotRmsAbvGrd\n",
    "\n",
    "After you've created that list of features, use it to create the DataFrame that you'll use to fit the model."
   ]
  },
  {
   "cell_type": "code",
   "execution_count": null,
   "id": "1e41fdfd",
   "metadata": {
    "execution": {
     "iopub.execute_input": "2024-11-30T20:40:28.183579Z",
     "iopub.status.busy": "2024-11-30T20:40:28.183177Z",
     "iopub.status.idle": "2024-11-30T20:40:28.199094Z",
     "shell.execute_reply": "2024-11-30T20:40:28.197792Z",
     "shell.execute_reply.started": "2024-11-30T20:40:28.183547Z"
    },
    "papermill": {
     "duration": null,
     "end_time": null,
     "exception": null,
     "start_time": null,
     "status": "pending"
    },
    "tags": []
   },
   "outputs": [],
   "source": [
    "# Create the list of features below\n",
    "feature_names = [\"LotArea\",\"YearBuilt\",\"1stFlrSF\",\"2ndFlrSF\",\"FullBath\",\"BedroomAbvGr\",\"TotRmsAbvGrd\"]\n",
    "\n",
    "# Select data corresponding to features in feature_names\n",
    "X = home_data[feature_names]\n",
    "\n",
    "# Check your answer\n",
    "step_2.check()"
   ]
  },
  {
   "cell_type": "code",
   "execution_count": null,
   "id": "ba674cde",
   "metadata": {
    "execution": {
     "iopub.execute_input": "2024-11-30T20:39:41.428616Z",
     "iopub.status.busy": "2024-11-30T20:39:41.428181Z",
     "iopub.status.idle": "2024-11-30T20:39:41.438409Z",
     "shell.execute_reply": "2024-11-30T20:39:41.437207Z",
     "shell.execute_reply.started": "2024-11-30T20:39:41.428581Z"
    },
    "papermill": {
     "duration": null,
     "end_time": null,
     "exception": null,
     "start_time": null,
     "status": "pending"
    },
    "tags": []
   },
   "outputs": [],
   "source": [
    "# step_2.hint()\n",
    "step_2.solution()"
   ]
  },
  {
   "cell_type": "markdown",
   "id": "877fdf1e",
   "metadata": {
    "papermill": {
     "duration": null,
     "end_time": null,
     "exception": null,
     "start_time": null,
     "status": "pending"
    },
    "tags": []
   },
   "source": [
    "## Review Data\n",
    "Before building a model, take a quick look at **X** to verify it looks sensible"
   ]
  },
  {
   "cell_type": "code",
   "execution_count": null,
   "id": "283c002c",
   "metadata": {
    "papermill": {
     "duration": null,
     "end_time": null,
     "exception": null,
     "start_time": null,
     "status": "pending"
    },
    "tags": []
   },
   "outputs": [],
   "source": [
    "# Review data\n",
    "# print description or statistics from X\n",
    "#print(_)\n",
    "\n",
    "# print the top few lines\n",
    "#print(_)"
   ]
  },
  {
   "cell_type": "markdown",
   "id": "44b6f89c",
   "metadata": {
    "papermill": {
     "duration": null,
     "end_time": null,
     "exception": null,
     "start_time": null,
     "status": "pending"
    },
    "tags": []
   },
   "source": [
    "## Step 3: Specify and Fit Model\n",
    "Create a `DecisionTreeRegressor` and save it iowa_model. Ensure you've done the relevant import from sklearn to run this command.\n",
    "\n",
    "Then fit the model you just created using the data in `X` and `y` that you saved above."
   ]
  },
  {
   "cell_type": "code",
   "execution_count": null,
   "id": "9bae83f0",
   "metadata": {
    "execution": {
     "iopub.execute_input": "2024-11-30T20:41:47.742984Z",
     "iopub.status.busy": "2024-11-30T20:41:47.742520Z",
     "iopub.status.idle": "2024-11-30T20:41:47.762792Z",
     "shell.execute_reply": "2024-11-30T20:41:47.761456Z",
     "shell.execute_reply.started": "2024-11-30T20:41:47.742942Z"
    },
    "papermill": {
     "duration": null,
     "end_time": null,
     "exception": null,
     "start_time": null,
     "status": "pending"
    },
    "tags": []
   },
   "outputs": [],
   "source": [
    "# from _ import _\n",
    "#specify the model. \n",
    "#For model reproducibility, set a numeric value for random_state when specifying the model\n",
    "from sklearn.tree import DecisionTreeRegressor\n",
    "# Fit the model\n",
    "iowa_model = DecisionTreeRegressor(random_state=1)\n",
    "iowa_model.fit(X, y)\n",
    "\n",
    "# Check your answer\n",
    "step_3.check()"
   ]
  },
  {
   "cell_type": "code",
   "execution_count": null,
   "id": "fd774be2",
   "metadata": {
    "execution": {
     "iopub.execute_input": "2024-11-30T20:40:52.200431Z",
     "iopub.status.busy": "2024-11-30T20:40:52.199069Z",
     "iopub.status.idle": "2024-11-30T20:40:52.209784Z",
     "shell.execute_reply": "2024-11-30T20:40:52.208349Z",
     "shell.execute_reply.started": "2024-11-30T20:40:52.200383Z"
    },
    "papermill": {
     "duration": null,
     "end_time": null,
     "exception": null,
     "start_time": null,
     "status": "pending"
    },
    "tags": []
   },
   "outputs": [],
   "source": [
    "# step_3.hint()\n",
    "step_3.solution()"
   ]
  },
  {
   "cell_type": "markdown",
   "id": "33d96628",
   "metadata": {
    "papermill": {
     "duration": null,
     "end_time": null,
     "exception": null,
     "start_time": null,
     "status": "pending"
    },
    "tags": []
   },
   "source": [
    "## Step 4: Make Predictions\n",
    "Make predictions with the model's `predict` command using `X` as the data. Save the results to a variable called `predictions`."
   ]
  },
  {
   "cell_type": "code",
   "execution_count": null,
   "id": "afeae461",
   "metadata": {
    "execution": {
     "iopub.execute_input": "2024-11-30T20:42:32.289329Z",
     "iopub.status.busy": "2024-11-30T20:42:32.288907Z",
     "iopub.status.idle": "2024-11-30T20:42:32.306286Z",
     "shell.execute_reply": "2024-11-30T20:42:32.305007Z",
     "shell.execute_reply.started": "2024-11-30T20:42:32.289293Z"
    },
    "papermill": {
     "duration": null,
     "end_time": null,
     "exception": null,
     "start_time": null,
     "status": "pending"
    },
    "tags": []
   },
   "outputs": [],
   "source": [
    "predictions = iowa_model.predict(X)\n",
    "\n",
    "print(predictions)\n",
    "\n",
    "# Check your answer\n",
    "step_4.check()"
   ]
  },
  {
   "cell_type": "code",
   "execution_count": null,
   "id": "b2e92301",
   "metadata": {
    "execution": {
     "iopub.execute_input": "2024-11-30T20:42:17.878179Z",
     "iopub.status.busy": "2024-11-30T20:42:17.877324Z",
     "iopub.status.idle": "2024-11-30T20:42:17.891443Z",
     "shell.execute_reply": "2024-11-30T20:42:17.890306Z",
     "shell.execute_reply.started": "2024-11-30T20:42:17.878133Z"
    },
    "papermill": {
     "duration": null,
     "end_time": null,
     "exception": null,
     "start_time": null,
     "status": "pending"
    },
    "tags": []
   },
   "outputs": [],
   "source": [
    "step_4.hint()\n",
    "step_4.solution()"
   ]
  },
  {
   "cell_type": "markdown",
   "id": "9a9c4b82",
   "metadata": {
    "papermill": {
     "duration": null,
     "end_time": null,
     "exception": null,
     "start_time": null,
     "status": "pending"
    },
    "tags": []
   },
   "source": [
    "## Think About Your Results\n",
    "\n",
    "Use the `head` method to compare the top few predictions to the actual home values (in `y`) for those same homes. Anything surprising?\n"
   ]
  },
  {
   "cell_type": "code",
   "execution_count": null,
   "id": "bdf3b902",
   "metadata": {
    "papermill": {
     "duration": null,
     "end_time": null,
     "exception": null,
     "start_time": null,
     "status": "pending"
    },
    "tags": []
   },
   "outputs": [],
   "source": [
    "# You can write code in this cell\n"
   ]
  },
  {
   "cell_type": "markdown",
   "id": "7120baa8",
   "metadata": {
    "papermill": {
     "duration": null,
     "end_time": null,
     "exception": null,
     "start_time": null,
     "status": "pending"
    },
    "tags": []
   },
   "source": [
    "It's natural to ask how accurate the model's predictions will be and how you can improve that. That will be you're next step.\n",
    "\n",
    "# Keep Going\n",
    "\n",
    "You are ready for **[Model Validation](https://www.kaggle.com/dansbecker/model-validation).**\n"
   ]
  },
  {
   "cell_type": "markdown",
   "id": "287865f2",
   "metadata": {
    "papermill": {
     "duration": null,
     "end_time": null,
     "exception": null,
     "start_time": null,
     "status": "pending"
    },
    "tags": []
   },
   "source": [
    "---\n",
    "\n",
    "\n",
    "\n",
    "\n",
    "*Have questions or comments? Visit the [course discussion forum](https://www.kaggle.com/learn/intro-to-machine-learning/discussion) to chat with other learners.*"
   ]
  }
 ],
 "metadata": {
  "kaggle": {
   "accelerator": "none",
   "dataSources": [
    {
     "databundleVersionId": 111096,
     "sourceId": 10211,
     "sourceType": "competition"
    },
    {
     "datasetId": 11167,
     "sourceId": 15520,
     "sourceType": "datasetVersion"
    },
    {
     "datasetId": 2709,
     "sourceId": 38454,
     "sourceType": "datasetVersion"
    }
   ],
   "isGpuEnabled": false,
   "isInternetEnabled": false,
   "language": "python",
   "sourceType": "notebook"
  },
  "kernelspec": {
   "display_name": "Python 3",
   "language": "python",
   "name": "python3"
  },
  "language_info": {
   "codemirror_mode": {
    "name": "ipython",
    "version": 3
   },
   "file_extension": ".py",
   "mimetype": "text/x-python",
   "name": "python",
   "nbconvert_exporter": "python",
   "pygments_lexer": "ipython3",
   "version": "3.10.14"
  },
  "papermill": {
   "default_parameters": {},
   "duration": 3.629045,
   "end_time": "2024-12-04T21:19:18.935991",
   "environment_variables": {},
   "exception": true,
   "input_path": "__notebook__.ipynb",
   "output_path": "__notebook__.ipynb",
   "parameters": {},
   "start_time": "2024-12-04T21:19:15.306946",
   "version": "2.6.0"
  }
 },
 "nbformat": 4,
 "nbformat_minor": 5
}
